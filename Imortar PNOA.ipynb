{
  "nbformat": 4,
  "nbformat_minor": 0,
  "metadata": {
    "colab": {
      "provenance": [],
      "mount_file_id": "1XvhMqJ8sSngTpgnMQSw007qbUV1wmf_G",
      "authorship_tag": "ABX9TyMudPyKIKOPyKzT4qDKLCJz",
      "include_colab_link": true
    },
    "kernelspec": {
      "name": "python3",
      "display_name": "Python 3"
    },
    "language_info": {
      "name": "python"
    }
  },
  "cells": [
    {
      "cell_type": "markdown",
      "metadata": {
        "id": "view-in-github",
        "colab_type": "text"
      },
      "source": [
        "<a href=\"https://colab.research.google.com/github/Blackthornedejavre/earthengine-community/blob/master/Imortar%20PNOA.ipynb\" target=\"_parent\"><img src=\"https://colab.research.google.com/assets/colab-badge.svg\" alt=\"Open In Colab\"/></a>"
      ]
    },
    {
      "cell_type": "code",
      "source": [
        "#importar las librerias necesarias\n",
        "import requests\n",
        "from google.colab import drive\n",
        "import os\n",
        "\n",
        "#montar el drive \n",
        "drive.mount('/content/drive')\n",
        "\n",
        "#crear la carpeta en drive\n",
        "os.makedirs('/content/drive/My Drive/pnoa_images')"
      ],
      "metadata": {
        "colab": {
          "base_uri": "https://localhost:8080/"
        },
        "id": "d0ZeS2OV-zfB",
        "outputId": "0ec073fd-8462-46b2-d100-8822d54252bf"
      },
      "execution_count": 5,
      "outputs": [
        {
          "output_type": "stream",
          "name": "stdout",
          "text": [
            "Drive already mounted at /content/drive; to attempt to forcibly remount, call drive.mount(\"/content/drive\", force_remount=True).\n"
          ]
        }
      ]
    },
    {
      "cell_type": "code",
      "source": [
        "#definir la url de descarga de imagenes\n",
        "url = 'https://www.ign.es/web/pnoa/'\n",
        "\n",
        "#realizar peticion GET a la url\n",
        "r = requests.get(url)"
      ],
      "metadata": {
        "id": "Fi__CVXI--gR"
      },
      "execution_count": null,
      "outputs": []
    },
    {
      "cell_type": "code",
      "execution_count": null,
      "metadata": {
        "id": "q-Ks1Y_dOSBS"
      },
      "outputs": [],
      "source": [
        "\n",
        "#obtener la lista de imagenes\n",
        "images = r.find_all('img')\n",
        "\n",
        "#descargar las imagenes dentro de la carpeta creada\n",
        "for image in images:\n",
        "    imagename = image['src'].split('/')[-1]\n",
        "    image_url = url + image['src']\n",
        "    r2 = requests.get(image_url)\n",
        "    with open('/content/drive/My Drive/pnoa_images/' + imagename, 'wb') as f:\n",
        "        f.write"
      ]
    }
  ]
}